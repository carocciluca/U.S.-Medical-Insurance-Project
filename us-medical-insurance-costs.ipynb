{
 "cells": [
  {
   "cell_type": "markdown",
   "metadata": {},
   "source": [
    "# U.S. Medical Insurance Costs"
   ]
  },
  {
   "cell_type": "code",
   "execution_count": 69,
   "metadata": {},
   "outputs": [
    {
     "name": "stdout",
     "output_type": "stream",
     "text": [
      "The dataset has 1338 entries\n",
      "The average charge is 13270.422265141257.\n",
      "The average age is 39.20702541106129.\n",
      "Demographics:\n",
      "age < 25: 306\n",
      "25 < age <= 40: 395\n",
      "40 < age <= 55: 421\n",
      "age > 55: 216\n",
      "The number of children is 1.0949177877429.\n",
      "Children are distributed as follows: {'0': 574, '1': 324, '3': 157, '2': 240, '5': 18, '4': 25}\n"
     ]
    }
   ],
   "source": [
    "#preparation\n",
    "import csv\n",
    "from decimal import Decimal\n",
    "\n",
    "\n",
    "with open(\"insurance.csv\") as insurance_data:\n",
    "    data = csv.DictReader(insurance_data)\n",
    "    ages = []\n",
    "    sexes = []\n",
    "    bmis = []\n",
    "    numbers_of_children = []\n",
    "    smoker_statuses = []\n",
    "    regions = []\n",
    "    charges = []\n",
    "    for line in data:\n",
    "        ages.append(int(line[\"age\"]))\n",
    "        sexes.append(line[\"sex\"])\n",
    "        bmis.append(line[\"bmi\"])\n",
    "        numbers_of_children.append(line[\"children\"])\n",
    "        smoker_statuses.append(line[\"smoker\"])\n",
    "        regions.append(line[\"region\"])\n",
    "        charges.append(line[\"charges\"])\n",
    "\n",
    "\n",
    "#perform some general analyses\n",
    "total_count = 0\n",
    "for entry in ages:\n",
    "    total_count += 1\n",
    "print(\"The dataset has {} entries\".format(total_count))\n",
    "\n",
    "total_cost = 0\n",
    "for charge in charges:\n",
    "    total_cost += float(charge)\n",
    "average_cost = total_cost/len(charges)\n",
    "print(\"The average charge is {charge}.\".format(charge=average_cost))\n",
    "\n",
    "total_age = 0\n",
    "for age in ages:\n",
    "    total_age += float(age)\n",
    "average_age = total_age/len(ages)\n",
    "print(\"The average age is {age}.\".format(age=average_age))\n",
    "\n",
    "pop_25 = 0\n",
    "pop_40 = 0\n",
    "pop_55 = 0\n",
    "pop_O55 = 0\n",
    "\n",
    "for i in range(len(ages)):\n",
    "    if ages[i] <= 25:\n",
    "        pop_25 += 1\n",
    "    elif ages[i] <= 40:\n",
    "        pop_40 += 1\n",
    "    elif ages[i] <= 55:\n",
    "        pop_55 += 1\n",
    "    elif ages[i] > 50:\n",
    "        pop_O55 += 1\n",
    "\n",
    "print(\"Demographics:\\nage < 25: {}\\n25 < age <= 40: {}\\n40 < age <= 55: {}\\nage > 55: {}\".format(pop_25, pop_40,pop_55,pop_O55))        \n",
    "        \n",
    "total_children = 0\n",
    "for number_of_children in numbers_of_children:\n",
    "    total_children += float(number_of_children)\n",
    "average_number_of_children = total_children/len(numbers_of_children)\n",
    "print(\"The number of children is {average}.\".format(average=average_number_of_children))\n",
    "\n",
    "children_dict = {}\n",
    "\n",
    "for number_of_children in numbers_of_children:\n",
    "    if number_of_children not in children_dict:\n",
    "        children_dict[number_of_children] = 1\n",
    "    else:\n",
    "        n = children_dict[number_of_children]\n",
    "        children_dict.update({number_of_children:n+1})\n",
    "print(\"Children are distributed as follows: \" + str(children_dict))"
   ]
  },
  {
   "cell_type": "code",
   "execution_count": 71,
   "metadata": {},
   "outputs": [
    {
     "name": "stdout",
     "output_type": "stream",
     "text": [
      "Regions are distributed as follows: {'southwest': 324, 'southeast': 363, 'northwest': 324, 'northeast': 323}\n"
     ]
    }
   ],
   "source": [
    "#region analysis\n",
    "regions_analysis = {}\n",
    "for region in regions:\n",
    "    if region not in regions_analysis:\n",
    "        regions_analysis[region] = 0\n",
    "    else:\n",
    "        i = regions_analysis[region]\n",
    "        regions_analysis.update({region:i+1})\n",
    "\n",
    "print(\"Regions are distributed as follows: \" + str(regions_analysis))"
   ]
  },
  {
   "cell_type": "code",
   "execution_count": 67,
   "metadata": {},
   "outputs": [
    {
     "name": "stdout",
     "output_type": "stream",
     "text": [
      "There are 274 smokers and 1064 non-smokers in the dataset.\n",
      "Smokers by age:\n",
      "age <= 25: 21.241830065359476%\n",
      "25 < age <= 40: 21.265822784810126%\n",
      "40 < age <= 55: 20.19002375296912%\n",
      "age > 55: 18.51851851851852%\n",
      "Smokers on average pay 280.00014582983204% more than non-smokers\n"
     ]
    }
   ],
   "source": [
    "#smoker analysis\n",
    "total_smoker_charge = 0\n",
    "total_non_smoker_charge = 0\n",
    "number_of_smokers = smoker_statuses.count(\"yes\")\n",
    "number_of_non_smokers = smoker_statuses.count(\"no\")\n",
    "print(\"There are {smokers} smokers and {non_smokers} non-smokers in the dataset.\".format(smokers=number_of_smokers,non_smokers=number_of_non_smokers) )\n",
    "\n",
    "tot_smokers_25 = 0\n",
    "tot_smokers_40 = 0\n",
    "tot_smokers_55 = 0\n",
    "tot_smokers_O55 = 0\n",
    "\n",
    "for i in range(len(ages)):\n",
    "    if ages[i] <= 25 and smoker_statuses[i] == \"yes\":\n",
    "        tot_smokers_25 += 1\n",
    "    elif ages[i] <= 40 and smoker_statuses[i] == \"yes\":\n",
    "        tot_smokers_40 += 1\n",
    "    elif ages[i] <= 55 and smoker_statuses[i] == \"yes\":\n",
    "        tot_smokers_55 += 1\n",
    "    elif ages[i] > 50 and smoker_statuses[i] == \"yes\":\n",
    "        tot_smokers_O55 += 1\n",
    "\n",
    "smoker25_percent = tot_smokers_25 / pop_25 *100\n",
    "smoker40_percent = tot_smokers_40 / pop_40 *100\n",
    "smoker55_percent = tot_smokers_55 / pop_55 *100\n",
    "smokerO55_percent = tot_smokers_O55 / pop_O55 *100\n",
    "\n",
    "print(\"Smokers by age:\\nage <= 25: {}%\\n25 < age <= 40: {}%\\n40 < age <= 55: {}%\\nage > 55: {}%\".format(smoker25_percent, smoker40_percent, smoker55_percent, smokerO55_percent))\n",
    "    \n",
    "\n",
    "for i in range(len(smoker_statuses)):\n",
    "    if smoker_statuses[i] == \"yes\":\n",
    "        total_smoker_charge += float(charges[i])\n",
    "    else:\n",
    "        total_non_smoker_charge += float(charges[i])\n",
    "\n",
    "avg_smoker_charge = total_smoker_charge/number_of_smokers\n",
    "avg_non_smoker_charge = total_non_smoker_charge/number_of_non_smokers\n",
    "\n",
    "deviation = (avg_smoker_charge/avg_non_smoker_charge)*100 -100\n",
    "\n",
    "print(\"Smokers on average pay {}% more than non-smokers\".format(deviation))\n",
    "    "
   ]
  },
  {
   "cell_type": "code",
   "execution_count": null,
   "metadata": {},
   "outputs": [],
   "source": []
  }
 ],
 "metadata": {
  "kernelspec": {
   "display_name": "Python 3",
   "language": "python",
   "name": "python3"
  },
  "language_info": {
   "codemirror_mode": {
    "name": "ipython",
    "version": 3
   },
   "file_extension": ".py",
   "mimetype": "text/x-python",
   "name": "python",
   "nbconvert_exporter": "python",
   "pygments_lexer": "ipython3",
   "version": "3.8.5"
  }
 },
 "nbformat": 4,
 "nbformat_minor": 4
}
